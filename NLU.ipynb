{
    "cells": [
        {
            "metadata": {},
            "cell_type": "markdown",
            "source": "# IBM NLU \nIn this notebook we will cover services provided by IBM NLU.\n>  NLU Servces has been already created on IBM cloud."
        },
        {
            "metadata": {
                "scrolled": true
            },
            "cell_type": "code",
            "source": "import json\n! pip install --upgrade \"ibm-watson>=4.2.1\" # To Install package . Add \"!\" sign\nfrom ibm_watson import NaturalLanguageUnderstandingV1\nfrom ibm_cloud_sdk_core.authenticators import IAMAuthenticator\nfrom ibm_watson.natural_language_understanding_v1 import Features, CategoriesOptions,EmotionOptions, SentimentOptions, EntitiesOptions, ConceptsOptions, KeywordsOptions, MetadataOptions, RelationsOptions, SemanticRolesOptions",
            "execution_count": 5,
            "outputs": [
                {
                    "output_type": "stream",
                    "text": "Collecting ibm-watson>=4.2.1\n\u001b[?25l  Downloading https://files.pythonhosted.org/packages/da/f4/7e256026ee22c75a630c6de53eb45b6fef4840ac6728b80a92dd2e523a1a/ibm-watson-4.2.1.tar.gz (348kB)\n\u001b[K     |\u2588\u2588\u2588\u2588\u2588\u2588\u2588\u2588\u2588\u2588\u2588\u2588\u2588\u2588\u2588\u2588\u2588\u2588\u2588\u2588\u2588\u2588\u2588\u2588\u2588\u2588\u2588\u2588\u2588\u2588\u2588\u2588| 358kB 8.1MB/s eta 0:00:01\n\u001b[?25hRequirement already satisfied, skipping upgrade: requests<3.0,>=2.0 in /opt/conda/envs/Python36/lib/python3.6/site-packages (from ibm-watson>=4.2.1) (2.21.0)\nRequirement already satisfied, skipping upgrade: python_dateutil>=2.5.3 in /opt/conda/envs/Python36/lib/python3.6/site-packages (from ibm-watson>=4.2.1) (2.7.5)\nCollecting websocket-client==0.48.0 (from ibm-watson>=4.2.1)\n\u001b[?25l  Downloading https://files.pythonhosted.org/packages/8a/a1/72ef9aa26cfe1a75cee09fc1957e4723add9de098c15719416a1ee89386b/websocket_client-0.48.0-py2.py3-none-any.whl (198kB)\n\u001b[K     |\u2588\u2588\u2588\u2588\u2588\u2588\u2588\u2588\u2588\u2588\u2588\u2588\u2588\u2588\u2588\u2588\u2588\u2588\u2588\u2588\u2588\u2588\u2588\u2588\u2588\u2588\u2588\u2588\u2588\u2588\u2588\u2588| 204kB 27.1MB/s eta 0:00:01\n\u001b[?25hCollecting ibm_cloud_sdk_core==1.5.1 (from ibm-watson>=4.2.1)\n  Downloading https://files.pythonhosted.org/packages/b7/f6/10d5271c807d73d236e6ae07b68035fed78b28b5ab836704d34097af3986/ibm-cloud-sdk-core-1.5.1.tar.gz\nRequirement already satisfied, skipping upgrade: idna<2.9,>=2.5 in /opt/conda/envs/Python36/lib/python3.6/site-packages (from requests<3.0,>=2.0->ibm-watson>=4.2.1) (2.8)\nRequirement already satisfied, skipping upgrade: certifi>=2017.4.17 in /opt/conda/envs/Python36/lib/python3.6/site-packages (from requests<3.0,>=2.0->ibm-watson>=4.2.1) (2019.11.28)\nRequirement already satisfied, skipping upgrade: urllib3<1.25,>=1.21.1 in /opt/conda/envs/Python36/lib/python3.6/site-packages (from requests<3.0,>=2.0->ibm-watson>=4.2.1) (1.24.1)\nRequirement already satisfied, skipping upgrade: chardet<3.1.0,>=3.0.2 in /opt/conda/envs/Python36/lib/python3.6/site-packages (from requests<3.0,>=2.0->ibm-watson>=4.2.1) (3.0.4)\nRequirement already satisfied, skipping upgrade: six>=1.5 in /opt/conda/envs/Python36/lib/python3.6/site-packages (from python_dateutil>=2.5.3->ibm-watson>=4.2.1) (1.12.0)\nCollecting PyJWT>=1.7.1 (from ibm_cloud_sdk_core==1.5.1->ibm-watson>=4.2.1)\n  Downloading https://files.pythonhosted.org/packages/87/8b/6a9f14b5f781697e51259d81657e6048fd31a113229cf346880bb7545565/PyJWT-1.7.1-py2.py3-none-any.whl\nBuilding wheels for collected packages: ibm-watson, ibm-cloud-sdk-core\n  Building wheel for ibm-watson (setup.py) ... \u001b[?25ldone\n\u001b[?25h  Stored in directory: /home/dsxuser/.cache/pip/wheels/ce/4d/6e/ae352b7c7acdddf073aeb06617fbfeefaea9fcb6d7ae98800b\n  Building wheel for ibm-cloud-sdk-core (setup.py) ... \u001b[?25ldone\n\u001b[?25h  Stored in directory: /home/dsxuser/.cache/pip/wheels/6a/42/50/f96888116b329578304f9dda4693cef6f3e76e18272d22cb6c\nSuccessfully built ibm-watson ibm-cloud-sdk-core\nInstalling collected packages: websocket-client, PyJWT, ibm-cloud-sdk-core, ibm-watson\nSuccessfully installed PyJWT-1.7.1 ibm-cloud-sdk-core-1.5.1 ibm-watson-4.2.1 websocket-client-0.48.0\n",
                    "name": "stdout"
                }
            ]
        },
        {
            "metadata": {},
            "cell_type": "markdown",
            "source": "# Here your Credentials \n> On the\u00a0Manage\u00a0page of IBM cloud, click\u00a0Show Credentials."
        },
        {
            "metadata": {},
            "cell_type": "code",
            "source": "# Add your credentials. Below cred won't work\nAPI_KEY = \"ogufaS1iFOLKiQKkhTQlUnvJ_fdsf fd\"\nURL = \"https://api.eu-gb.natural-language-understanding.watson.cloud.ibm.com/instances/f4bd7fe5-3dsfdsfdsfds\"",
            "execution_count": 6,
            "outputs": []
        },
        {
            "metadata": {},
            "cell_type": "markdown",
            "source": "### Configuring our NLU instance"
        },
        {
            "metadata": {},
            "cell_type": "code",
            "source": "authenticator = IAMAuthenticator(API_KEY)\nnatural_language_understanding = NaturalLanguageUnderstandingV1(\n    version='2019-07-12',\n    authenticator=authenticator\n)\n\nnatural_language_understanding.set_service_url(URL)",
            "execution_count": 7,
            "outputs": []
        },
        {
            "metadata": {},
            "cell_type": "markdown",
            "source": "### Entities extraction from a web page\n> Identifies people, cities, organizations, and other entities in the content. \nRefer: https://cloud.ibm.com/docs/services/natural-language-understanding?topic=natural-language-understanding-entity-type-systems"
        },
        {
            "metadata": {},
            "cell_type": "code",
            "source": "response = natural_language_understanding.analyze(\n    url='www.cnn.com',\n    features=Features(entities=EntitiesOptions(sentiment=True,limit=10))).get_result()\nprint(json.dumps(response, indent=2))",
            "execution_count": 8,
            "outputs": [
                {
                    "output_type": "stream",
                    "text": "{\n  \"usage\": {\n    \"text_units\": 1,\n    \"text_characters\": 3084,\n    \"features\": 1\n  },\n  \"retrieved_url\": \"https://www.cnn.com/\",\n  \"language\": \"en\",\n  \"entities\": [\n    {\n      \"type\": \"Company\",\n      \"text\": \"CNN\",\n      \"sentiment\": {\n        \"score\": 0.87046,\n        \"label\": \"positive\"\n      },\n      \"relevance\": 0.973112,\n      \"disambiguation\": {\n        \"subtype\": [\n          \"Broadcast\",\n          \"AwardWinner\",\n          \"RadioNetwork\",\n          \"TVNetwork\"\n        ],\n        \"name\": \"CNN\",\n        \"dbpedia_resource\": \"http://dbpedia.org/resource/CNN\"\n      },\n      \"count\": 19,\n      \"confidence\": 1\n    },\n    {\n      \"type\": \"Company\",\n      \"text\": \"Digital Studios\",\n      \"sentiment\": {\n        \"score\": 0,\n        \"label\": \"neutral\"\n      },\n      \"relevance\": 0.384099,\n      \"count\": 2,\n      \"confidence\": 0.745343\n    },\n    {\n      \"type\": \"Location\",\n      \"text\": \"US\",\n      \"sentiment\": {\n        \"score\": 0,\n        \"label\": \"neutral\"\n      },\n      \"relevance\": 0.379505,\n      \"disambiguation\": {\n        \"subtype\": [\n          \"Region\",\n          \"AdministrativeDivision\",\n          \"Country\",\n          \"GovernmentalJurisdiction\",\n          \"FilmEditor\"\n        ],\n        \"name\": \"United_States\",\n        \"dbpedia_resource\": \"http://dbpedia.org/resource/United_States\"\n      },\n      \"count\": 6,\n      \"confidence\": 1.0\n    },\n    {\n      \"type\": \"GeographicFeature\",\n      \"text\": \"SCOTUS\",\n      \"sentiment\": {\n        \"score\": 0.815038,\n        \"label\": \"positive\"\n      },\n      \"relevance\": 0.320678,\n      \"count\": 2,\n      \"confidence\": 0.707501\n    },\n    {\n      \"type\": \"Sport\",\n      \"text\": \"Football\",\n      \"sentiment\": {\n        \"score\": 0,\n        \"label\": \"neutral\"\n      },\n      \"relevance\": 0.267203,\n      \"count\": 4,\n      \"confidence\": 1\n    },\n    {\n      \"type\": \"Location\",\n      \"text\": \"Americas\",\n      \"sentiment\": {\n        \"score\": 0.97575,\n        \"label\": \"positive\"\n      },\n      \"relevance\": 0.26674,\n      \"count\": 2,\n      \"confidence\": 0.999794\n    },\n    {\n      \"type\": \"Company\",\n      \"text\": \"HLN\",\n      \"sentiment\": {\n        \"score\": 0,\n        \"label\": \"neutral\"\n      },\n      \"relevance\": 0.24749,\n      \"disambiguation\": {\n        \"subtype\": [\n          \"TVNetwork\"\n        ],\n        \"name\": \"HLN_%28TV_channel%29\",\n        \"dbpedia_resource\": \"http://dbpedia.org/resource/HLN_%28TV_channel%29\"\n      },\n      \"count\": 2,\n      \"confidence\": 0.928712\n    },\n    {\n      \"type\": \"Location\",\n      \"text\": \"Middle East\",\n      \"sentiment\": {\n        \"score\": 0.661979,\n        \"label\": \"positive\"\n      },\n      \"relevance\": 0.232646,\n      \"count\": 2,\n      \"confidence\": 0.921965\n    },\n    {\n      \"type\": \"Location\",\n      \"text\": \"United Kingdom\",\n      \"sentiment\": {\n        \"score\": 0,\n        \"label\": \"neutral\"\n      },\n      \"relevance\": 0.228282,\n      \"count\": 2,\n      \"confidence\": 0.93079\n    },\n    {\n      \"type\": \"Location\",\n      \"text\": \"Asia\",\n      \"sentiment\": {\n        \"score\": 0,\n        \"label\": \"neutral\"\n      },\n      \"relevance\": 0.215311,\n      \"count\": 2,\n      \"confidence\": 0.999683\n    }\n  ]\n}\n",
                    "name": "stdout"
                }
            ]
        },
        {
            "metadata": {},
            "cell_type": "markdown",
            "source": "### Emotion extraction\n> Detects anger, disgust, fear, joy, or sadness that is conveyed in the content or by the context around target phrases specified in the targets parameter.\n\nSentence = **Apples and Oranges. I love apples and I don't link oranges.**"
        },
        {
            "metadata": {},
            "cell_type": "code",
            "source": "response = natural_language_understanding.analyze(\n    html=\"<html><head><title>Fruits</title></head><body><h1>Apples and Oranges</h1><p>I love apples! I don't like oranges.</p></body></html>\",\n    features=Features(emotion=EmotionOptions(targets=['apples','oranges']))).get_result()\nprint(json.dumps(response, indent=2))",
            "execution_count": 9,
            "outputs": [
                {
                    "output_type": "stream",
                    "text": "{\n  \"usage\": {\n    \"text_units\": 1,\n    \"text_characters\": 37,\n    \"features\": 1\n  },\n  \"language\": \"en\",\n  \"emotion\": {\n    \"targets\": [\n      {\n        \"text\": \"apples\",\n        \"emotion\": {\n          \"sadness\": 0.028574,\n          \"joy\": 0.859042,\n          \"fear\": 0.02752,\n          \"disgust\": 0.017519,\n          \"anger\": 0.012855\n        }\n      },\n      {\n        \"text\": \"oranges\",\n        \"emotion\": {\n          \"sadness\": 0.514253,\n          \"joy\": 0.078317,\n          \"fear\": 0.074223,\n          \"disgust\": 0.058103,\n          \"anger\": 0.126859\n        }\n      }\n    ],\n    \"document\": {\n      \"emotion\": {\n        \"sadness\": 0.32665,\n        \"joy\": 0.563273,\n        \"fear\": 0.033387,\n        \"disgust\": 0.022637,\n        \"anger\": 0.041796\n      }\n    }\n  }\n}\n",
                    "name": "stdout"
                }
            ]
        },
        {
            "metadata": {},
            "cell_type": "markdown",
            "source": "### Concepts\n> Returns high-level concepts in the content. "
        },
        {
            "metadata": {},
            "cell_type": "code",
            "source": "response = natural_language_understanding.analyze(\n    text= 'Machine learning is closely related to computational statistics, which focuses on making predictions using computers. The study of mathematical optimization delivers methods, theory and application domains to the field of machine learning.',\n    features=Features(concepts=ConceptsOptions(limit=3))).get_result()\n\nprint(json.dumps(response, indent=2))",
            "execution_count": 10,
            "outputs": [
                {
                    "output_type": "stream",
                    "text": "{\n  \"usage\": {\n    \"text_units\": 1,\n    \"text_characters\": 239,\n    \"features\": 1\n  },\n  \"language\": \"en\",\n  \"concepts\": [\n    {\n      \"text\": \"Mathematics\",\n      \"relevance\": 0.984733,\n      \"dbpedia_resource\": \"http://dbpedia.org/resource/Mathematics\"\n    },\n    {\n      \"text\": \"Applied mathematics\",\n      \"relevance\": 0.874728,\n      \"dbpedia_resource\": \"http://dbpedia.org/resource/Applied_mathematics\"\n    },\n    {\n      \"text\": \"Artificial intelligence\",\n      \"relevance\": 0.874726,\n      \"dbpedia_resource\": \"http://dbpedia.org/resource/Artificial_intelligence\"\n    }\n  ]\n}\n",
                    "name": "stdout"
                }
            ]
        },
        {
            "metadata": {},
            "cell_type": "markdown",
            "source": "## Categories\n> Returns a five-level taxonomy of the content. The top three categories are returned."
        },
        {
            "metadata": {},
            "cell_type": "code",
            "source": "response = natural_language_understanding.analyze(\n    url='www.ibm.com',\n    features=Features(categories=CategoriesOptions(limit=3))).get_result()\n\nprint(json.dumps(response, indent=2))",
            "execution_count": 11,
            "outputs": [
                {
                    "output_type": "stream",
                    "text": "{\n  \"usage\": {\n    \"text_units\": 1,\n    \"text_characters\": 493,\n    \"features\": 1\n  },\n  \"retrieved_url\": \"https://www.ibm.com/uk-en\",\n  \"language\": \"en\",\n  \"categories\": [\n    {\n      \"score\": 0.971989,\n      \"label\": \"/technology and computing/programming languages/java\"\n    },\n    {\n      \"score\": 0.946998,\n      \"label\": \"/technology and computing/operating systems\"\n    },\n    {\n      \"score\": 0.874673,\n      \"label\": \"/technology and computing/hardware/computer\"\n    }\n  ]\n}\n",
                    "name": "stdout"
                }
            ]
        },
        {
            "metadata": {},
            "cell_type": "markdown",
            "source": "## Keywords\n> Returns important keywords in the content."
        },
        {
            "metadata": {},
            "cell_type": "code",
            "source": "response = natural_language_understanding.analyze(\n    url='www.ibm.com',\n    features=Features(keywords=KeywordsOptions(sentiment=True,emotion=True,limit=2))).get_result()\n\nprint(json.dumps(response, indent=2))",
            "execution_count": 12,
            "outputs": [
                {
                    "output_type": "stream",
                    "text": "{\n  \"usage\": {\n    \"text_units\": 1,\n    \"text_characters\": 493,\n    \"features\": 1\n  },\n  \"retrieved_url\": \"https://www.ibm.com/uk-en\",\n  \"language\": \"en\",\n  \"keywords\": [\n    {\n      \"text\": \"IBM Cloud\",\n      \"sentiment\": {\n        \"score\": 0,\n        \"label\": \"neutral\"\n      },\n      \"relevance\": 0.82754,\n      \"emotion\": {\n        \"sadness\": 0.02059,\n        \"joy\": 0.042895,\n        \"fear\": 0.014017,\n        \"disgust\": 0.004434,\n        \"anger\": 0.005316\n      },\n      \"count\": 1\n    },\n    {\n      \"text\": \"latest IBM stories\",\n      \"sentiment\": {\n        \"score\": 0,\n        \"label\": \"neutral\"\n      },\n      \"relevance\": 0.734463,\n      \"emotion\": {\n        \"sadness\": 0.050359,\n        \"joy\": 0.556432,\n        \"fear\": 0.078952,\n        \"disgust\": 0.014179,\n        \"anger\": 0.045997\n      },\n      \"count\": 1\n    }\n  ]\n}\n",
                    "name": "stdout"
                }
            ]
        },
        {
            "metadata": {},
            "cell_type": "markdown",
            "source": "## Metadata\n> Returns information from the document, including author name, title, RSS/ATOM feeds, prominent page image, and publication date. Supports URL and HTML input types only."
        },
        {
            "metadata": {},
            "cell_type": "code",
            "source": "response = natural_language_understanding.analyze(\n    url='www.ibm.com',\n    features=Features(metadata=MetadataOptions())).get_result()\n\nprint(json.dumps(response, indent=2))",
            "execution_count": 13,
            "outputs": [
                {
                    "output_type": "stream",
                    "text": "{\n  \"usage\": {\n    \"text_units\": 1,\n    \"text_characters\": 493,\n    \"features\": 1\n  },\n  \"retrieved_url\": \"https://www.ibm.com/uk-en\",\n  \"metadata\": {\n    \"title\": \"IBM - United Kingdom\",\n    \"publication_date\": \"\",\n    \"image\": \"https://1.www.s81c.com/common/images/ibm-leadspace-1200x627.jpg\",\n    \"feeds\": [],\n    \"authors\": []\n  },\n  \"language\": \"en\"\n}\n",
                    "name": "stdout"
                }
            ]
        },
        {
            "metadata": {},
            "cell_type": "markdown",
            "source": "## Relations\n> Recognizes when two entities are related and identifies the type of relation."
        },
        {
            "metadata": {},
            "cell_type": "code",
            "source": "response = natural_language_understanding.analyze(\n    text='Leonardo DiCaprio won Best Actor in a Leading Role for his performance.',\n    features=Features(relations=RelationsOptions())).get_result()\nprint(json.dumps(response, indent=2))",
            "execution_count": 14,
            "outputs": [
                {
                    "output_type": "stream",
                    "text": "{\n  \"usage\": {\n    \"text_units\": 1,\n    \"text_characters\": 71,\n    \"features\": 1\n  },\n  \"relations\": [\n    {\n      \"type\": \"awardedTo\",\n      \"sentence\": \"Leonardo DiCaprio won Best Actor in a Leading Role for his performance.\",\n      \"score\": 0.680715,\n      \"arguments\": [\n        {\n          \"text\": \"Best Actor\",\n          \"location\": [\n            22,\n            32\n          ],\n          \"entities\": [\n            {\n              \"type\": \"EntertainmentAward\",\n              \"text\": \"Best Actor\"\n            }\n          ]\n        },\n        {\n          \"text\": \"Leonardo DiCaprio\",\n          \"location\": [\n            0,\n            17\n          ],\n          \"entities\": [\n            {\n              \"type\": \"Person\",\n              \"text\": \"Leonardo DiCaprio\"\n            }\n          ]\n        }\n      ]\n    }\n  ],\n  \"language\": \"en\"\n}\n",
                    "name": "stdout"
                }
            ]
        },
        {
            "metadata": {},
            "cell_type": "markdown",
            "source": "## Semantic Roles\n> Parses sentences into subject, action, and object form."
        },
        {
            "metadata": {},
            "cell_type": "code",
            "source": "response = natural_language_understanding.analyze(\n    text='John from IBM is travelling to Tokyo',\n    features=Features(semantic_roles=SemanticRolesOptions())).get_result()\n\nprint(json.dumps(response, indent=2))",
            "execution_count": 15,
            "outputs": [
                {
                    "output_type": "stream",
                    "text": "{\n  \"usage\": {\n    \"text_units\": 1,\n    \"text_characters\": 36,\n    \"features\": 1\n  },\n  \"semantic_roles\": [\n    {\n      \"subject\": {\n        \"text\": \"John from IBM\"\n      },\n      \"sentence\": \"John from IBM is travelling to Tokyo\",\n      \"object\": {\n        \"text\": \"travelling to Tokyo\"\n      },\n      \"action\": {\n        \"verb\": {\n          \"text\": \"be\",\n          \"tense\": \"present\"\n        },\n        \"text\": \"is\",\n        \"normalized\": \"be\"\n      }\n    },\n    {\n      \"subject\": {\n        \"text\": \"John from IBM\"\n      },\n      \"sentence\": \"John from IBM is travelling to Tokyo\",\n      \"object\": {\n        \"text\": \"to Tokyo\"\n      },\n      \"action\": {\n        \"verb\": {\n          \"text\": \"travel\",\n          \"tense\": \"present\"\n        },\n        \"text\": \"is travelling\",\n        \"normalized\": \"be travel\"\n      }\n    }\n  ],\n  \"language\": \"en\"\n}\n",
                    "name": "stdout"
                }
            ]
        },
        {
            "metadata": {},
            "cell_type": "markdown",
            "source": "# Chat Analytic using IBM NLU"
        },
        {
            "metadata": {},
            "cell_type": "code",
            "source": "\nimport types\nimport pandas as pd\nfrom botocore.client import Config\nimport ibm_boto3\n\ndef __iter__(self): return 0\n\n# @hidden_cell\n# The following code accesses a file in your IBM Cloud Object Storage. It includes your credentials.\n# You might want to remove those credentials before you share the notebook.\nclient_0c40be34a95c47ca92970b3a5b2daa55 = ibm_boto3.client(service_name='s3',\n    ibm_api_key_id='K7s4OIoDq4udop7aXhUjQGAuWwY1CnJrJdUBfcwiVTYh',\n    ibm_auth_endpoint=\"https://iam.eu-gb.bluemix.net/oidc/token\",\n    config=Config(signature_version='oauth'),\n    endpoint_url='https://s3.eu-geo.objectstorage.service.networklayer.com')\n\nbody = client_0c40be34a95c47ca92970b3a5b2daa55.get_object(Bucket='projectdemo1-donotdelete-pr-unt5jk5ac2fgxd',Key='complains.csv')['Body']\n# add missing __iter__ method, so pandas accepts body as file-like object\nif not hasattr(body, \"__iter__\"): body.__iter__ = types.MethodType( __iter__, body )\n\ndf_data_1 = pd.read_csv(body)\nprint(df_data_1.shape)\ndf_data_1.head()",
            "execution_count": 16,
            "outputs": [
                {
                    "output_type": "stream",
                    "text": "(20000, 2)\n",
                    "name": "stdout"
                },
                {
                    "output_type": "execute_result",
                    "execution_count": 16,
                    "data": {
                        "text/plain": "                                             PRODUCT  \\\n0  Credit reporting, credit repair services, or o...   \n1  Credit reporting, credit repair services, or o...   \n2  Credit reporting, credit repair services, or o...   \n3  Credit reporting, credit repair services, or o...   \n4  Credit reporting, credit repair services, or o...   \n\n                                      COMPLAINT_TEXT  \n0    and Transunion are reporting incorrectly tha...  \n1   and Transunion are reporting incorrectly that...  \n2  , , and Experian need to remove the collection...  \n3  3 company with inconsistencies, violations and...  \n4  I have a personal loan from Patriot finance. T...  ",
                        "text/html": "<div>\n<style scoped>\n    .dataframe tbody tr th:only-of-type {\n        vertical-align: middle;\n    }\n\n    .dataframe tbody tr th {\n        vertical-align: top;\n    }\n\n    .dataframe thead th {\n        text-align: right;\n    }\n</style>\n<table border=\"1\" class=\"dataframe\">\n  <thead>\n    <tr style=\"text-align: right;\">\n      <th></th>\n      <th>PRODUCT</th>\n      <th>COMPLAINT_TEXT</th>\n    </tr>\n  </thead>\n  <tbody>\n    <tr>\n      <th>0</th>\n      <td>Credit reporting, credit repair services, or o...</td>\n      <td>and Transunion are reporting incorrectly tha...</td>\n    </tr>\n    <tr>\n      <th>1</th>\n      <td>Credit reporting, credit repair services, or o...</td>\n      <td>and Transunion are reporting incorrectly that...</td>\n    </tr>\n    <tr>\n      <th>2</th>\n      <td>Credit reporting, credit repair services, or o...</td>\n      <td>, , and Experian need to remove the collection...</td>\n    </tr>\n    <tr>\n      <th>3</th>\n      <td>Credit reporting, credit repair services, or o...</td>\n      <td>3 company with inconsistencies, violations and...</td>\n    </tr>\n    <tr>\n      <th>4</th>\n      <td>Credit reporting, credit repair services, or o...</td>\n      <td>I have a personal loan from Patriot finance. T...</td>\n    </tr>\n  </tbody>\n</table>\n</div>"
                    },
                    "metadata": {}
                }
            ]
        },
        {
            "metadata": {},
            "cell_type": "code",
            "source": "subset = df_data_1.head(10)\nsubset[\"COMPLAINT_TEXT\"]",
            "execution_count": 19,
            "outputs": [
                {
                    "output_type": "execute_result",
                    "execution_count": 19,
                    "data": {
                        "text/plain": "0      and Transunion are reporting incorrectly tha...\n1     and Transunion are reporting incorrectly that...\n2    , , and Experian need to remove the collection...\n3    3 company with inconsistencies, violations and...\n4    I have a personal loan from Patriot finance. T...\n5    Starting in // I started receiving calls from ...\n6    Card issuer received confirmation of payment i...\n7    YOUR COMPLAINT I am disputing the debt owed to...\n8    I met the requirements for the ability to bene...\n9    , , and Transunion are not taking my claims se...\nName: COMPLAINT_TEXT, dtype: object"
                    },
                    "metadata": {}
                }
            ]
        },
        {
            "metadata": {},
            "cell_type": "code",
            "source": "for index, row in subset.iterrows():\n    response = natural_language_understanding.analyze(\n    text=row[\"COMPLAINT_TEXT\"],\n    features=Features(keywords=KeywordsOptions(sentiment=True,emotion=True,limit=2))).get_result()\n    print(json.dumps(response, indent=2))\n    print(\"########\")",
            "execution_count": 18,
            "outputs": [
                {
                    "output_type": "stream",
                    "text": "{\n  \"usage\": {\n    \"text_units\": 1,\n    \"text_characters\": 422,\n    \"features\": 1\n  },\n  \"language\": \"en\",\n  \"keywords\": [\n    {\n      \"text\": \"partial account numbers\",\n      \"sentiment\": {\n        \"score\": -0.78011,\n        \"label\": \"negative\"\n      },\n      \"relevance\": 0.856042,\n      \"emotion\": {\n        \"sadness\": 0.205481,\n        \"joy\": 0.029508,\n        \"fear\": 0.063324,\n        \"disgust\": 0.019176,\n        \"anger\": 0.032383\n      },\n      \"count\": 1\n    },\n    {\n      \"text\": \"past due\",\n      \"sentiment\": {\n        \"score\": -0.26892,\n        \"mixed\": \"1\",\n        \"label\": \"negative\"\n      },\n      \"relevance\": 0.848379,\n      \"emotion\": {\n        \"sadness\": 0.239088,\n        \"joy\": 0.025649,\n        \"fear\": 0.053461,\n        \"disgust\": 0.000599,\n        \"anger\": 0.005452\n      },\n      \"count\": 2\n    }\n  ]\n}\n########\n{\n  \"usage\": {\n    \"text_units\": 1,\n    \"text_characters\": 407,\n    \"features\": 1\n  },\n  \"language\": \"en\",\n  \"keywords\": [\n    {\n      \"text\": \"partial account number\",\n      \"sentiment\": {\n        \"score\": 0,\n        \"label\": \"neutral\"\n      },\n      \"relevance\": 0.863758,\n      \"emotion\": {\n        \"sadness\": 0.205481,\n        \"joy\": 0.029508,\n        \"fear\": 0.063324,\n        \"disgust\": 0.019176,\n        \"anger\": 0.032383\n      },\n      \"count\": 1\n    },\n    {\n      \"text\": \"past due\",\n      \"sentiment\": {\n        \"score\": -0.282901,\n        \"mixed\": \"1\",\n        \"label\": \"negative\"\n      },\n      \"relevance\": 0.856436,\n      \"emotion\": {\n        \"sadness\": 0.239088,\n        \"joy\": 0.025649,\n        \"fear\": 0.053461,\n        \"disgust\": 0.000599,\n        \"anger\": 0.005452\n      },\n      \"count\": 2\n    }\n  ]\n}\n########\n{\n  \"usage\": {\n    \"text_units\": 1,\n    \"text_characters\": 751,\n    \"features\": 1\n  },\n  \"language\": \"en\",\n  \"keywords\": [\n    {\n      \"text\": \"original creditor\",\n      \"sentiment\": {\n        \"score\": -0.834658,\n        \"label\": \"negative\"\n      },\n      \"relevance\": 0.968788,\n      \"emotion\": {\n        \"sadness\": 0.533902,\n        \"joy\": 0.006217,\n        \"fear\": 0.066839,\n        \"disgust\": 0.313903,\n        \"anger\": 0.280645\n      },\n      \"count\": 1\n    },\n    {\n      \"text\": \"credit file\",\n      \"sentiment\": {\n        \"score\": -0.943544,\n        \"label\": \"negative\"\n      },\n      \"relevance\": 0.672915,\n      \"emotion\": {\n        \"sadness\": 0.27691,\n        \"joy\": 0.022012,\n        \"fear\": 0.085885,\n        \"disgust\": 0.021169,\n        \"anger\": 0.567862\n      },\n      \"count\": 1\n    }\n  ]\n}\n########\n{\n  \"usage\": {\n    \"text_units\": 1,\n    \"text_characters\": 1134,\n    \"features\": 1\n  },\n  \"language\": \"en\",\n  \"keywords\": [\n    {\n      \"text\": \"own report\",\n      \"sentiment\": {\n        \"score\": -0.900837,\n        \"label\": \"negative\"\n      },\n      \"relevance\": 0.822275,\n      \"emotion\": {\n        \"sadness\": 0.158126,\n        \"joy\": 0.040764,\n        \"fear\": 0.050567,\n        \"disgust\": 0.172133,\n        \"anger\": 0.350467\n      },\n      \"count\": 1\n    },\n    {\n      \"text\": \"past due balance\",\n      \"sentiment\": {\n        \"score\": -0.837833,\n        \"label\": \"negative\"\n      },\n      \"relevance\": 0.769667,\n      \"emotion\": {\n        \"sadness\": 0.372192,\n        \"joy\": 0.038341,\n        \"fear\": 0.064491,\n        \"disgust\": 0.008846,\n        \"anger\": 0.048509\n      },\n      \"count\": 1\n    }\n  ]\n}\n########\n{\n  \"usage\": {\n    \"text_units\": 1,\n    \"text_characters\": 234,\n    \"features\": 1\n  },\n  \"language\": \"en\",\n  \"keywords\": [\n    {\n      \"text\": \"personal loan\",\n      \"sentiment\": {\n        \"score\": 0,\n        \"label\": \"neutral\"\n      },\n      \"relevance\": 0.867425,\n      \"emotion\": {\n        \"sadness\": 0.296126,\n        \"joy\": 0.023939,\n        \"fear\": 0.044094,\n        \"disgust\": 0.110526,\n        \"anger\": 0.182183\n      },\n      \"count\": 1\n    },\n    {\n      \"text\": \"payment agreement\",\n      \"sentiment\": {\n        \"score\": -0.72756,\n        \"label\": \"negative\"\n      },\n      \"relevance\": 0.771207,\n      \"emotion\": {\n        \"sadness\": 0.098893,\n        \"joy\": 0.134705,\n        \"fear\": 0.030063,\n        \"disgust\": 0.195345,\n        \"anger\": 0.078371\n      },\n      \"count\": 1\n    }\n  ]\n}\n########\n{\n  \"usage\": {\n    \"text_units\": 1,\n    \"text_characters\": 1216,\n    \"features\": 1\n  },\n  \"language\": \"en\",\n  \"keywords\": [\n    {\n      \"text\": \"credit report\",\n      \"sentiment\": {\n        \"score\": -0.994761,\n        \"label\": \"negative\"\n      },\n      \"relevance\": 0.633469,\n      \"emotion\": {\n        \"sadness\": 0.701417,\n        \"joy\": 0.006384,\n        \"fear\": 0.196111,\n        \"disgust\": 0.238405,\n        \"anger\": 0.178539\n      },\n      \"count\": 1\n    },\n    {\n      \"text\": \"Medical bill\",\n      \"sentiment\": {\n        \"score\": 0,\n        \"label\": \"neutral\"\n      },\n      \"relevance\": 0.625093,\n      \"emotion\": {\n        \"sadness\": 0.207718,\n        \"joy\": 0.066224,\n        \"fear\": 0.013565,\n        \"disgust\": 0.033093,\n        \"anger\": 0.067799\n      },\n      \"count\": 1\n    }\n  ]\n}\n########\n{\n  \"usage\": {\n    \"text_units\": 1,\n    \"text_characters\": 456,\n    \"features\": 1\n  },\n  \"language\": \"en\",\n  \"keywords\": [\n    {\n      \"text\": \"Card issuer\",\n      \"sentiment\": {\n        \"score\": -0.783831,\n        \"label\": \"negative\"\n      },\n      \"relevance\": 0.986035,\n      \"emotion\": {\n        \"sadness\": 0.294635,\n        \"joy\": 0.019415,\n        \"fear\": 0.018276,\n        \"disgust\": 0.022542,\n        \"anger\": 0.082647\n      },\n      \"count\": 3\n    },\n    {\n      \"text\": \"credit collection agency\",\n      \"sentiment\": {\n        \"score\": 0,\n        \"label\": \"neutral\"\n      },\n      \"relevance\": 0.975958,\n      \"emotion\": {\n        \"sadness\": 0.224842,\n        \"joy\": 0.043288,\n        \"fear\": 0.012608,\n        \"disgust\": 0.02982,\n        \"anger\": 0.058407\n      },\n      \"count\": 1\n    }\n  ]\n}\n########\n{\n  \"usage\": {\n    \"text_units\": 1,\n    \"text_characters\": 1249,\n    \"features\": 1\n  },\n  \"language\": \"en\",\n  \"keywords\": [\n    {\n      \"text\": \"foreclosure date\",\n      \"sentiment\": {\n        \"score\": -0.511238,\n        \"label\": \"negative\"\n      },\n      \"relevance\": 0.726007,\n      \"emotion\": {\n        \"sadness\": 0.447464,\n        \"joy\": 0.045396,\n        \"fear\": 0.220886,\n        \"disgust\": 0.058551,\n        \"anger\": 0.109242\n      },\n      \"count\": 1\n    },\n    {\n      \"text\": \"Select Portfolio\",\n      \"sentiment\": {\n        \"score\": -0.810136,\n        \"label\": \"negative\"\n      },\n      \"relevance\": 0.686487,\n      \"emotion\": {\n        \"sadness\": 0.139983,\n        \"joy\": 0.061899,\n        \"fear\": 0.023369,\n        \"disgust\": 0.152823,\n        \"anger\": 0.784294\n      },\n      \"count\": 2\n    }\n  ]\n}\n########\n{\n  \"usage\": {\n    \"text_units\": 1,\n    \"text_characters\": 669,\n    \"features\": 1\n  },\n  \"language\": \"en\",\n  \"keywords\": [\n    {\n      \"text\": \"exact letter of the law\",\n      \"sentiment\": {\n        \"score\": 0.767578,\n        \"label\": \"positive\"\n      },\n      \"relevance\": 0.759656,\n      \"emotion\": {\n        \"sadness\": 0.046158,\n        \"joy\": 0.136062,\n        \"fear\": 0.098098,\n        \"disgust\": 0.044218,\n        \"anger\": 0.014107\n      },\n      \"count\": 1\n    },\n    {\n      \"text\": \"Department of Education\",\n      \"sentiment\": {\n        \"score\": 0,\n        \"label\": \"neutral\"\n      },\n      \"relevance\": 0.689803,\n      \"emotion\": {\n        \"sadness\": 0.338929,\n        \"joy\": 0.033401,\n        \"fear\": 0.082863,\n        \"disgust\": 0.14891,\n        \"anger\": 0.222588\n      },\n      \"count\": 1\n    }\n  ]\n}\n########\n{\n  \"usage\": {\n    \"text_units\": 1,\n    \"text_characters\": 316,\n    \"features\": 1\n  },\n  \"language\": \"en\",\n  \"keywords\": [\n    {\n      \"text\": \"negative information\",\n      \"sentiment\": {\n        \"score\": -0.739691,\n        \"label\": \"negative\"\n      },\n      \"relevance\": 0.817063,\n      \"emotion\": {\n        \"sadness\": 0.21984,\n        \"joy\": 0.036591,\n        \"fear\": 0.012801,\n        \"disgust\": 0.212271,\n        \"anger\": 0.207237\n      },\n      \"count\": 1\n    },\n    {\n      \"text\": \"acceptable answer\",\n      \"sentiment\": {\n        \"score\": -0.774812,\n        \"label\": \"negative\"\n      },\n      \"relevance\": 0.59408,\n      \"emotion\": {\n        \"sadness\": 0.21984,\n        \"joy\": 0.036591,\n        \"fear\": 0.012801,\n        \"disgust\": 0.212271,\n        \"anger\": 0.207237\n      },\n      \"count\": 1\n    }\n  ]\n}\n########\n",
                    "name": "stdout"
                }
            ]
        },
        {
            "metadata": {},
            "cell_type": "code",
            "source": "for index, row in subset.iterrows():\n    response = natural_language_understanding.analyze(\n    text=row[\"COMPLAINT_TEXT\"],\n#     features=Features(entities=EntitiesOptions(sentiment=True,limit=10))).get_result()\n    features=Features(keywords=KeywordsOptions(sentiment=True,emotion=True,limit=2))).get_result()\n    print(json.dumps(response, indent=2))\n    print(\"####################\")",
            "execution_count": 47,
            "outputs": [
                {
                    "output_type": "stream",
                    "text": "{\n  \"usage\": {\n    \"text_units\": 1,\n    \"text_characters\": 422,\n    \"features\": 1\n  },\n  \"language\": \"en\",\n  \"keywords\": [\n    {\n      \"text\": \"partial account numbers\",\n      \"sentiment\": {\n        \"score\": -0.78011,\n        \"label\": \"negative\"\n      },\n      \"relevance\": 0.856042,\n      \"emotion\": {\n        \"sadness\": 0.205481,\n        \"joy\": 0.029508,\n        \"fear\": 0.063324,\n        \"disgust\": 0.019176,\n        \"anger\": 0.032383\n      },\n      \"count\": 1\n    },\n    {\n      \"text\": \"past due\",\n      \"sentiment\": {\n        \"score\": -0.26892,\n        \"mixed\": \"1\",\n        \"label\": \"negative\"\n      },\n      \"relevance\": 0.848379,\n      \"emotion\": {\n        \"sadness\": 0.239088,\n        \"joy\": 0.025649,\n        \"fear\": 0.053461,\n        \"disgust\": 0.000599,\n        \"anger\": 0.005452\n      },\n      \"count\": 2\n    }\n  ]\n}\n####################\n{\n  \"usage\": {\n    \"text_units\": 1,\n    \"text_characters\": 407,\n    \"features\": 1\n  },\n  \"language\": \"en\",\n  \"keywords\": [\n    {\n      \"text\": \"partial account number\",\n      \"sentiment\": {\n        \"score\": 0,\n        \"label\": \"neutral\"\n      },\n      \"relevance\": 0.863758,\n      \"emotion\": {\n        \"sadness\": 0.205481,\n        \"joy\": 0.029508,\n        \"fear\": 0.063324,\n        \"disgust\": 0.019176,\n        \"anger\": 0.032383\n      },\n      \"count\": 1\n    },\n    {\n      \"text\": \"past due\",\n      \"sentiment\": {\n        \"score\": -0.282901,\n        \"mixed\": \"1\",\n        \"label\": \"negative\"\n      },\n      \"relevance\": 0.856436,\n      \"emotion\": {\n        \"sadness\": 0.239088,\n        \"joy\": 0.025649,\n        \"fear\": 0.053461,\n        \"disgust\": 0.000599,\n        \"anger\": 0.005452\n      },\n      \"count\": 2\n    }\n  ]\n}\n####################\n{\n  \"usage\": {\n    \"text_units\": 1,\n    \"text_characters\": 751,\n    \"features\": 1\n  },\n  \"language\": \"en\",\n  \"keywords\": [\n    {\n      \"text\": \"original creditor\",\n      \"sentiment\": {\n        \"score\": -0.834658,\n        \"label\": \"negative\"\n      },\n      \"relevance\": 0.968788,\n      \"emotion\": {\n        \"sadness\": 0.533902,\n        \"joy\": 0.006217,\n        \"fear\": 0.066839,\n        \"disgust\": 0.313903,\n        \"anger\": 0.280645\n      },\n      \"count\": 1\n    },\n    {\n      \"text\": \"credit file\",\n      \"sentiment\": {\n        \"score\": -0.943544,\n        \"label\": \"negative\"\n      },\n      \"relevance\": 0.672915,\n      \"emotion\": {\n        \"sadness\": 0.27691,\n        \"joy\": 0.022012,\n        \"fear\": 0.085885,\n        \"disgust\": 0.021169,\n        \"anger\": 0.567862\n      },\n      \"count\": 1\n    }\n  ]\n}\n####################\n{\n  \"usage\": {\n    \"text_units\": 1,\n    \"text_characters\": 1134,\n    \"features\": 1\n  },\n  \"language\": \"en\",\n  \"keywords\": [\n    {\n      \"text\": \"own report\",\n      \"sentiment\": {\n        \"score\": -0.900837,\n        \"label\": \"negative\"\n      },\n      \"relevance\": 0.822275,\n      \"emotion\": {\n        \"sadness\": 0.158126,\n        \"joy\": 0.040764,\n        \"fear\": 0.050567,\n        \"disgust\": 0.172133,\n        \"anger\": 0.350467\n      },\n      \"count\": 1\n    },\n    {\n      \"text\": \"past due balance\",\n      \"sentiment\": {\n        \"score\": -0.837833,\n        \"label\": \"negative\"\n      },\n      \"relevance\": 0.769667,\n      \"emotion\": {\n        \"sadness\": 0.372192,\n        \"joy\": 0.038341,\n        \"fear\": 0.064491,\n        \"disgust\": 0.008846,\n        \"anger\": 0.048509\n      },\n      \"count\": 1\n    }\n  ]\n}\n####################\n{\n  \"usage\": {\n    \"text_units\": 1,\n    \"text_characters\": 234,\n    \"features\": 1\n  },\n  \"language\": \"en\",\n  \"keywords\": [\n    {\n      \"text\": \"personal loan\",\n      \"sentiment\": {\n        \"score\": 0,\n        \"label\": \"neutral\"\n      },\n      \"relevance\": 0.867425,\n      \"emotion\": {\n        \"sadness\": 0.296126,\n        \"joy\": 0.023939,\n        \"fear\": 0.044094,\n        \"disgust\": 0.110526,\n        \"anger\": 0.182183\n      },\n      \"count\": 1\n    },\n    {\n      \"text\": \"payment agreement\",\n      \"sentiment\": {\n        \"score\": -0.72756,\n        \"label\": \"negative\"\n      },\n      \"relevance\": 0.771207,\n      \"emotion\": {\n        \"sadness\": 0.098893,\n        \"joy\": 0.134705,\n        \"fear\": 0.030063,\n        \"disgust\": 0.195345,\n        \"anger\": 0.078371\n      },\n      \"count\": 1\n    }\n  ]\n}\n####################\n{\n  \"usage\": {\n    \"text_units\": 1,\n    \"text_characters\": 1216,\n    \"features\": 1\n  },\n  \"language\": \"en\",\n  \"keywords\": [\n    {\n      \"text\": \"credit report\",\n      \"sentiment\": {\n        \"score\": -0.994761,\n        \"label\": \"negative\"\n      },\n      \"relevance\": 0.633469,\n      \"emotion\": {\n        \"sadness\": 0.701417,\n        \"joy\": 0.006384,\n        \"fear\": 0.196111,\n        \"disgust\": 0.238405,\n        \"anger\": 0.178539\n      },\n      \"count\": 1\n    },\n    {\n      \"text\": \"Medical bill\",\n      \"sentiment\": {\n        \"score\": 0,\n        \"label\": \"neutral\"\n      },\n      \"relevance\": 0.625093,\n      \"emotion\": {\n        \"sadness\": 0.207718,\n        \"joy\": 0.066224,\n        \"fear\": 0.013565,\n        \"disgust\": 0.033093,\n        \"anger\": 0.067799\n      },\n      \"count\": 1\n    }\n  ]\n}\n####################\n{\n  \"usage\": {\n    \"text_units\": 1,\n    \"text_characters\": 456,\n    \"features\": 1\n  },\n  \"language\": \"en\",\n  \"keywords\": [\n    {\n      \"text\": \"Card issuer\",\n      \"sentiment\": {\n        \"score\": -0.783831,\n        \"label\": \"negative\"\n      },\n      \"relevance\": 0.986035,\n      \"emotion\": {\n        \"sadness\": 0.294635,\n        \"joy\": 0.019415,\n        \"fear\": 0.018276,\n        \"disgust\": 0.022542,\n        \"anger\": 0.082647\n      },\n      \"count\": 3\n    },\n    {\n      \"text\": \"credit collection agency\",\n      \"sentiment\": {\n        \"score\": 0,\n        \"label\": \"neutral\"\n      },\n      \"relevance\": 0.975958,\n      \"emotion\": {\n        \"sadness\": 0.224842,\n        \"joy\": 0.043288,\n        \"fear\": 0.012608,\n        \"disgust\": 0.02982,\n        \"anger\": 0.058407\n      },\n      \"count\": 1\n    }\n  ]\n}\n####################\n{\n  \"usage\": {\n    \"text_units\": 1,\n    \"text_characters\": 1249,\n    \"features\": 1\n  },\n  \"language\": \"en\",\n  \"keywords\": [\n    {\n      \"text\": \"foreclosure date\",\n      \"sentiment\": {\n        \"score\": -0.511238,\n        \"label\": \"negative\"\n      },\n      \"relevance\": 0.726007,\n      \"emotion\": {\n        \"sadness\": 0.447464,\n        \"joy\": 0.045396,\n        \"fear\": 0.220886,\n        \"disgust\": 0.058551,\n        \"anger\": 0.109242\n      },\n      \"count\": 1\n    },\n    {\n      \"text\": \"Select Portfolio\",\n      \"sentiment\": {\n        \"score\": -0.810136,\n        \"label\": \"negative\"\n      },\n      \"relevance\": 0.686487,\n      \"emotion\": {\n        \"sadness\": 0.139983,\n        \"joy\": 0.061899,\n        \"fear\": 0.023369,\n        \"disgust\": 0.152823,\n        \"anger\": 0.784294\n      },\n      \"count\": 2\n    }\n  ]\n}\n####################\n{\n  \"usage\": {\n    \"text_units\": 1,\n    \"text_characters\": 669,\n    \"features\": 1\n  },\n  \"language\": \"en\",\n  \"keywords\": [\n    {\n      \"text\": \"exact letter of the law\",\n      \"sentiment\": {\n        \"score\": 0.767578,\n        \"label\": \"positive\"\n      },\n      \"relevance\": 0.759656,\n      \"emotion\": {\n        \"sadness\": 0.046158,\n        \"joy\": 0.136062,\n        \"fear\": 0.098098,\n        \"disgust\": 0.044218,\n        \"anger\": 0.014107\n      },\n      \"count\": 1\n    },\n    {\n      \"text\": \"Department of Education\",\n      \"sentiment\": {\n        \"score\": 0,\n        \"label\": \"neutral\"\n      },\n      \"relevance\": 0.689803,\n      \"emotion\": {\n        \"sadness\": 0.338929,\n        \"joy\": 0.033401,\n        \"fear\": 0.082863,\n        \"disgust\": 0.14891,\n        \"anger\": 0.222588\n      },\n      \"count\": 1\n    }\n  ]\n}\n####################\n{\n  \"usage\": {\n    \"text_units\": 1,\n    \"text_characters\": 316,\n    \"features\": 1\n  },\n  \"language\": \"en\",\n  \"keywords\": [\n    {\n      \"text\": \"negative information\",\n      \"sentiment\": {\n        \"score\": -0.739691,\n        \"label\": \"negative\"\n      },\n      \"relevance\": 0.817063,\n      \"emotion\": {\n        \"sadness\": 0.21984,\n        \"joy\": 0.036591,\n        \"fear\": 0.012801,\n        \"disgust\": 0.212271,\n        \"anger\": 0.207237\n      },\n      \"count\": 1\n    },\n    {\n      \"text\": \"acceptable answer\",\n      \"sentiment\": {\n        \"score\": -0.774812,\n        \"label\": \"negative\"\n      },\n      \"relevance\": 0.59408,\n      \"emotion\": {\n        \"sadness\": 0.21984,\n        \"joy\": 0.036591,\n        \"fear\": 0.012801,\n        \"disgust\": 0.212271,\n        \"anger\": 0.207237\n      },\n      \"count\": 1\n    }\n  ]\n}\n####################\n",
                    "name": "stdout"
                }
            ]
        },
        {
            "metadata": {},
            "cell_type": "code",
            "source": "l = []\nfor index, row in subset.iterrows():\n    response = natural_language_understanding.analyze(\n    text=row[\"COMPLAINT_TEXT\"],\n#     features=Features(entities=EntitiesOptions(sentiment=True,limit=10))).get_result()\n    features=Features(keywords=KeywordsOptions(sentiment=True,emotion=True,limit=2))).get_result() \n#     print(response)\n    print(\"Text Sentence = \", row[\"COMPLAINT_TEXT\"], \"\\n\")\n    i = 1\n    \n    for x in response[\"keywords\"]:\n        print(i, \". Keyword = \",x[\"text\"])\n        l.append(x[\"text\"])\n        i += 1\n    print(\"####################\\n\")\nprint(l)",
            "execution_count": 49,
            "outputs": [
                {
                    "output_type": "stream",
                    "text": "Text Sentence =    and Transunion are reporting incorrectly that I am 120 days past due on loans with the   - partial account numbers  ;  ;  ; .. These accounts reflect a {$0.00} balance and a {$0.00} past due. I have contacted the two bureaus and requested these coding errors be corrected. This incorrect reporting is harming my credit score. It is  impossible to be past due on accounts that have a {$0.00} balance and {$0.00} past due. \n\n1 . Keyword =  partial account numbers\n2 . Keyword =  past due\n####################\n\nText Sentence =   and Transunion are reporting incorrectly that I am 120 days past due on a loan with the  - partial account number. This account reflects a {$0.00} balance and a {$0.00} past due. I have contacted the two bureaus and requested these coding errors be corrected. This incorrect reporting is harming my credit score. It is impossible to be past due on accounts that have a {$0.00} balance and {$0.00} past due. \n\n1 . Keyword =  partial account number\n2 . Keyword =  past due\n####################\n\nText Sentence =  , , and Experian need to remove the collection account for   . \n\nI have submitted a dispute on my credit file because this debt is not valid. The original creditor can not provide the fully executed contract and refuses to provide proof that they cancelled the account was cancelled by the business. \n\nThis is a dispute that would need to be settled by the fact-finding process of the civil court system. It is not fair for the creditor and the credit bureaus to hold my credit report hostage without sufficient evidence of this debt. The creditor did not allow me the process to dispute the debt by providing full documentation. \n\nSince the creditor is unable to provide a fully executed and valid contract, the file should be removed from my report. \n\n1 . Keyword =  original creditor\n2 . Keyword =  credit file\n####################\n\nText Sentence =  3 company with inconsistencies, violations and double jeopardy ... \nI requested to   an investigation for reporting \" past due balance '' and \" 1 month term '' in collection account from  which represent a violation to FDCPA ... \nThe answer from  was a verification from  as shown in their own report attached in this complaint.. \n is confirming with  the violation ... \nI decide to call  to obtain an explanation but the answer was they has been transfer or sold the account to MCCARTHY , BURGESS & WOLFF to collect the account .... \nNow  is reporting to  an account that is not marked as sold of transfer with a Balance ... So,   is in violation of the FCRA by reporting inaccuarate information and failing to do a proper investogation.. \nNow MCCARTHY, BURGESS & WOLFF is asking around 600 dollars over the original balance requested by  at the same time is reporting another balance to  ... \nAccount   Violation to FDCPA, Violation to FCRA and double jeopardy ... \n\nAttached proof of  balance reported to    before and after investigation and a letter from MCCARTHY, BURGESS & WOLFF collecting another balance for the same account. \n\n1 . Keyword =  own report\n2 . Keyword =  past due balance\n####################\n\nText Sentence =  I have a personal loan from Patriot finance. They are incorrectly reporting that my loan is a derogatory status and showing as many days late. We have a payment agreement and I am paying as agreed and my account does not reflect this. \n\n1 . Keyword =  personal loan\n2 . Keyword =  payment agreement\n####################\n\nText Sentence =  Starting in // I started receiving calls from ability recovery solutions regarding a Medical bill they claimed wasn't paid and I told them I was approved for SSI and Medicaid in //. I had been fighting for  for a few years altogether, and they backdated the Effective date for Medicaid back to // they told me to call the hospitals and have them pull the accounts they had sent to collections back and file them with Medicaid instead. The hospital that the bill came from told me they pulled them all back and they were paid and closed. Well, I started getting calls from the collection company, and when I said to them that debt was paid they got rude and said to send proof to them, then they might close it. But when I tried to communicate with them about it they got hateful on the phone and threating towards me, and I called the hospital the bill came from, and they said they shouldn't be collecting on that debt, and they tried to contact them. but they refused to take it off my credit report and kept calling multiple times daily threating legal action and hurting my credit and because of them, my credit score dropped down really low. Also, they never sent proof in the mail about the debt when requested \n\n1 . Keyword =  credit report\n2 . Keyword =  Medical bill\n####################\n\nText Sentence =  Card issuer received confirmation of payment in full from credit collection agency. Card issuer representatives provided inaccurate/false information re update to provided to credit bureau. Account is paid. It is not \" in collections '' as reported by card issuer. \n\nThe card issuer appears to send updates ( \" in collections ) to credit bureaus that have negatively impacted my credit file. The updates that reflect negative status are no longer accurate. \n\n1 . Keyword =  Card issuer\n2 . Keyword =  credit collection agency\n####################\n\nText Sentence =  YOUR COMPLAINT I am disputing the debt owed to Select Portfolio Servicing for Acct #  under the name of  .    my loan on behalf of     , as Indenture Trustee, for the benefit of the holders of the         . I dispute the legitimacy of the        .I have asked Select Portfolio multiple times for correct information on this trust and only receive a reponse back about who owns the trust. I need actual information on         to prove to me that this trust still actually exists. According to my research and in talking with reps from   as well as  , i can't get anybody to show me recent records of this trust. In my mind it doesn't exist and I dispute the legality of Select Portfolio Servicing actually collecting on it. I would imagine sind the are representing   in collecting for this trust that they would know all about it and be able to show me evidence so that I could get this mortgage back on track with a peice of mind that my money is going where it should. If you look at my earlier complaints and the response I have gotten from Select Portfolio you will see they refuse to give me the exact information I am asking for. \nThe foreclosure date of // should be cancelled and they should give me what I need to get things moving forward. \n\n1 . Keyword =  foreclosure date\n2 . Keyword =  Select Portfolio\n####################\n\nText Sentence =  I met the requirements for the ability to benefit to the exact letter of the law. They knowingly falsified their findings to continue to garnish my wages. I was exactly the person this law was designed for and they simply ignored the law and continue to ruin me financially. Someone needs to investigate this. We can not continue to let our politicians get away with this type of behavior. Please investigate the Department of Education and the collection agency they use to ruin peoples lives. I promise that if you investigate my case you will see that I met the requirement. I ask that you just look into my claim and the people who committed fraud to deny my claim. \n\n1 . Keyword =  exact letter of the law\n2 . Keyword =  Department of Education\n####################\n\nText Sentence =  , , and Transunion are not taking my claims seriously. They are not providing any evidence of how they made their decision. If you ask them to show you how they verified the negative information on my file they will not have an acceptable answer. All I ask is that they conduct a fair investigation but they are not. \n\n1 . Keyword =  negative information\n2 . Keyword =  acceptable answer\n####################\n\n['partial account numbers', 'past due', 'partial account number', 'past due', 'original creditor', 'credit file', 'own report', 'past due balance', 'personal loan', 'payment agreement', 'credit report', 'Medical bill', 'Card issuer', 'credit collection agency', 'foreclosure date', 'Select Portfolio', 'exact letter of the law', 'Department of Education', 'negative information', 'acceptable answer']\n",
                    "name": "stdout"
                }
            ]
        },
        {
            "metadata": {},
            "cell_type": "code",
            "source": "",
            "execution_count": null,
            "outputs": []
        },
        {
            "metadata": {},
            "cell_type": "code",
            "source": "",
            "execution_count": null,
            "outputs": []
        }
    ],
    "metadata": {
        "kernelspec": {
            "name": "python3",
            "display_name": "Python 3.6",
            "language": "python"
        },
        "language_info": {
            "name": "python",
            "version": "3.6.9",
            "mimetype": "text/x-python",
            "codemirror_mode": {
                "name": "ipython",
                "version": 3
            },
            "pygments_lexer": "ipython3",
            "nbconvert_exporter": "python",
            "file_extension": ".py"
        }
    },
    "nbformat": 4,
    "nbformat_minor": 1
}