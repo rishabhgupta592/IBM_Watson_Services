{
    "cells": [
        {
            "cell_type": "markdown",
            "metadata": {
                "collapsed": true
            },
            "source": "# Text Classification\n> Text classification is one of the most important tasks in Natural Language Processing. It is the process of classifying text strings or documents into different categories, depending upon the contents of the strings. Text classification has a variety of applications, such as detecting user sentiment from a tweet, classifying an email as spam or ham, classifying blog posts into different categories, automatic tagging of customer queries, and so on."
        },
        {
            "cell_type": "code",
            "execution_count": 15,
            "metadata": {},
            "outputs": [
                {
                    "data": {
                        "text/html": "<div>\n<style scoped>\n    .dataframe tbody tr th:only-of-type {\n        vertical-align: middle;\n    }\n\n    .dataframe tbody tr th {\n        vertical-align: top;\n    }\n\n    .dataframe thead th {\n        text-align: right;\n    }\n</style>\n<table border=\"1\" class=\"dataframe\">\n  <thead>\n    <tr style=\"text-align: right;\">\n      <th></th>\n      <th>Text</th>\n      <th>Intent</th>\n    </tr>\n  </thead>\n  <tbody>\n    <tr>\n      <th>0</th>\n      <td>How hot is it today?</td>\n      <td>temperature</td>\n    </tr>\n    <tr>\n      <th>1</th>\n      <td>Is it hot outside?</td>\n      <td>temperature</td>\n    </tr>\n    <tr>\n      <th>2</th>\n      <td>Will it be uncomfortably hot?</td>\n      <td>temperature</td>\n    </tr>\n    <tr>\n      <th>3</th>\n      <td>Will it be sweltering?</td>\n      <td>temperature</td>\n    </tr>\n    <tr>\n      <th>4</th>\n      <td>How cold is it today?</td>\n      <td>temperature</td>\n    </tr>\n  </tbody>\n</table>\n</div>",
                        "text/plain": "                            Text       Intent\n0           How hot is it today?  temperature\n1             Is it hot outside?  temperature\n2  Will it be uncomfortably hot?  temperature\n3         Will it be sweltering?  temperature\n4          How cold is it today?  temperature"
                    },
                    "execution_count": 15,
                    "metadata": {},
                    "output_type": "execute_result"
                }
            ],
            "source": "# The code was removed by Watson Studio for sharing."
        },
        {
            "cell_type": "markdown",
            "metadata": {},
            "source": "# Feature Extraction"
        },
        {
            "cell_type": "code",
            "execution_count": 13,
            "metadata": {},
            "outputs": [],
            "source": "from sklearn.feature_extraction.text import TfidfVectorizer\nx = df_data['Text']\ny = df_data['Intent']\nfrom sklearn.model_selection import train_test_split\nxTrain, xTest, yTrain, yTest = train_test_split(x, y, test_size = 0.2, random_state = 1)\n"
        },
        {
            "cell_type": "code",
            "execution_count": 19,
            "metadata": {},
            "outputs": [
                {
                    "data": {
                        "text/plain": "(40,)"
                    },
                    "execution_count": 19,
                    "metadata": {},
                    "output_type": "execute_result"
                }
            ],
            "source": "# Sample Train Text\nyTrain.shape"
        },
        {
            "cell_type": "code",
            "execution_count": 32,
            "metadata": {},
            "outputs": [
                {
                    "data": {
                        "text/plain": "28     conditions\n11    temperature\n10    temperature\n41     conditions\n2     temperature\nName: Intent, dtype: object"
                    },
                    "execution_count": 32,
                    "metadata": {},
                    "output_type": "execute_result"
                }
            ],
            "source": "# Sample lables\nyTest[:5]"
        },
        {
            "cell_type": "code",
            "execution_count": 21,
            "metadata": {},
            "outputs": [
                {
                    "data": {
                        "text/plain": "(40, 57)"
                    },
                    "execution_count": 21,
                    "metadata": {},
                    "output_type": "execute_result"
                }
            ],
            "source": "vectorizer = TfidfVectorizer()\nvectors = vectorizer.fit_transform(xTrain)\nvectors.shape"
        },
        {
            "cell_type": "code",
            "execution_count": 22,
            "metadata": {},
            "outputs": [
                {
                    "name": "stdout",
                    "output_type": "stream",
                    "text": "Train Done\nTrain accracy =  0.55\n"
                }
            ],
            "source": "# Machine learning\nfrom sklearn.svm import SVC\nclf_svm = SVC(kernel ='rbf', gamma='auto') # Poor accuracy \n# clf_svm = SVC(kernel ='rbf', gamma=1) # Better accuracy\n# Kernel coefficient for \u2018rbf\u2019, \u2018poly\u2019 and \u2018sigmoid\u2019.\nclf_svm.fit(vectors,yTrain)\nprint(\"Train Done\")\nprint(\"Train accracy = \",clf_svm.score(vectors, yTrain))"
        },
        {
            "cell_type": "code",
            "execution_count": 23,
            "metadata": {},
            "outputs": [
                {
                    "name": "stdout",
                    "output_type": "stream",
                    "text": "\nTrain Done\nTrain accracy =  1.0\n"
                }
            ],
            "source": "from sklearn.naive_bayes import MultinomialNB\nclf_naive = MultinomialNB(alpha=.01)\nclf_naive.fit(vectors, yTrain)\n# pred = clf.predict(vectors_test)\nprint(\"\\nTrain Done\")\nprint(\"Train accracy = \",clf_naive.score(vectors, yTrain))"
        },
        {
            "cell_type": "code",
            "execution_count": 24,
            "metadata": {},
            "outputs": [
                {
                    "name": "stdout",
                    "output_type": "stream",
                    "text": "SVM Test accracy =  0.2\nNaive bayes Test accracy =  0.7\n"
                }
            ],
            "source": "from sklearn import metrics\nvectors_test = vectorizer.transform(xTest)\n\nprint(\"SVM Test accracy = \",clf_svm.score(vectors_test, yTest))\nprint(\"Naive bayes Test accracy = \",clf_naive.score(vectors_test, yTest))"
        },
        {
            "cell_type": "markdown",
            "metadata": {},
            "source": "# Lets test our model by feeding a query"
        },
        {
            "cell_type": "code",
            "execution_count": 25,
            "metadata": {},
            "outputs": [
                {
                    "data": {
                        "text/plain": "'temperature'"
                    },
                    "execution_count": 25,
                    "metadata": {},
                    "output_type": "execute_result"
                }
            ],
            "source": "vectors_test = vectorizer.transform([\"How hot is it today?\"])\nclf_svm.predict(vectors_test)[0]"
        },
        {
            "cell_type": "code",
            "execution_count": 26,
            "metadata": {},
            "outputs": [
                {
                    "data": {
                        "text/plain": "'temperature'"
                    },
                    "execution_count": 26,
                    "metadata": {},
                    "output_type": "execute_result"
                }
            ],
            "source": "vectors_test = vectorizer.transform([\"How hot is it today?\"])\nclf_naive.predict(vectors_test)[0]"
        },
        {
            "cell_type": "markdown",
            "metadata": {},
            "source": "# Need of better word embeddings\n* Not able to understand unseend words like \"Gloomy\" while \"Sunny\" is understood.\n* Reason Gloomy word itself is not present in the vocab"
        },
        {
            "cell_type": "code",
            "execution_count": 27,
            "metadata": {},
            "outputs": [
                {
                    "data": {
                        "text/plain": "'conditions'"
                    },
                    "execution_count": 27,
                    "metadata": {},
                    "output_type": "execute_result"
                }
            ],
            "source": "vectors_test = vectorizer.transform([\"Is it sunny now?\"])\nclf_naive.predict(vectors_test)[0]"
        },
        {
            "cell_type": "code",
            "execution_count": 30,
            "metadata": {},
            "outputs": [
                {
                    "data": {
                        "text/plain": "array(['temperature', 'temperature'], dtype='<U11')"
                    },
                    "execution_count": 30,
                    "metadata": {},
                    "output_type": "execute_result"
                }
            ],
            "source": "vectors_test = vectorizer.transform([\"Is it gloomy now?\", \"how hot it is?\"])\n# incorrect prediction\nclf_naive.predict(vectors_test)"
        },
        {
            "cell_type": "code",
            "execution_count": null,
            "metadata": {},
            "outputs": [],
            "source": ""
        }
    ],
    "metadata": {
        "kernelspec": {
            "display_name": "Python 3.6",
            "language": "python",
            "name": "python3"
        },
        "language_info": {
            "codemirror_mode": {
                "name": "ipython",
                "version": 3
            },
            "file_extension": ".py",
            "mimetype": "text/x-python",
            "name": "python",
            "nbconvert_exporter": "python",
            "pygments_lexer": "ipython3",
            "version": "3.6.9"
        }
    },
    "nbformat": 4,
    "nbformat_minor": 1
}